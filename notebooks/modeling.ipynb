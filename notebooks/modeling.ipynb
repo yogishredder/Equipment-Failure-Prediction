{
 "cells": [
  {
   "cell_type": "markdown",
   "metadata": {},
   "source": [
    "## 1. Load Required Libraries"
   ]
  },
  {
   "cell_type": "code",
   "execution_count": 1,
   "metadata": {},
   "outputs": [],
   "source": [
    "import os\n",
    "\n",
    "#input file_location\n",
    "file_location = 'D:\\Project\\Course\\Pacmann\\Tugas\\Machine Learning Process\\Predictive Maintenance\\Coding'\n",
    "\n",
    "os.chdir(os.path.expanduser(file_location))"
   ]
  },
  {
   "cell_type": "code",
   "execution_count": 2,
   "metadata": {},
   "outputs": [],
   "source": [
    "import src.util as utils\n",
    "import pandas as pd\n",
    "import matplotlib.pyplot as plt\n",
    "from sklearn.tree import DecisionTreeClassifier\n",
    "from sklearn import tree\n",
    "from sklearn.metrics import classification_report, ConfusionMatrixDisplay"
   ]
  },
  {
   "cell_type": "markdown",
   "metadata": {},
   "source": [
    "## 2. Load Configuration File"
   ]
  },
  {
   "cell_type": "code",
   "execution_count": 3,
   "metadata": {},
   "outputs": [],
   "source": [
    "config = utils.load_config()"
   ]
  },
  {
   "cell_type": "markdown",
   "metadata": {},
   "source": [
    "## 3. Load Train and Test Set"
   ]
  },
  {
   "cell_type": "code",
   "execution_count": 4,
   "metadata": {},
   "outputs": [],
   "source": [
    "def load_dataset_feng(config_data: dict):\n",
    "    # Load every set of data\n",
    "    X_train_feng = utils.pickle_load(config['train_test']['directory'] + config['train_test'][\"X_train_feng\"])\n",
    "    y_train_feng = utils.pickle_load(config['train_test']['directory'] + config['train_test'][\"y_train_feng\"])\n",
    "\n",
    "    X_test_feng = utils.pickle_load(config['train_test']['directory'] + config['train_test'][\"X_test_feng\"])\n",
    "    y_test_feng = utils.pickle_load(config['train_test']['directory'] + config['train_test'][\"y_test_feng\"])\n",
    "\n",
    "    # Return 3 set of data\n",
    "    return X_train_feng, y_train_feng, X_test_feng, y_test_feng"
   ]
  },
  {
   "cell_type": "code",
   "execution_count": 5,
   "metadata": {},
   "outputs": [],
   "source": [
    "X_train_feng, y_train_feng, X_test_feng, y_test_feng = load_dataset_feng(config)"
   ]
  },
  {
   "cell_type": "markdown",
   "metadata": {},
   "source": [
    "## 4. Baseline Model"
   ]
  },
  {
   "cell_type": "code",
   "execution_count": 6,
   "metadata": {},
   "outputs": [
    {
     "name": "stdout",
     "output_type": "stream",
     "text": [
      "Baseline Model:\n",
      "Accuracy: 0.5305\n",
      "Classification Report:\n",
      "              precision    recall  f1-score   support\n",
      "\n",
      "           0       0.96      0.54      0.69      1932\n",
      "           1       0.03      0.40      0.05        68\n",
      "\n",
      "    accuracy                           0.53      2000\n",
      "   macro avg       0.50      0.47      0.37      2000\n",
      "weighted avg       0.93      0.53      0.67      2000\n",
      "\n"
     ]
    }
   ],
   "source": [
    "from sklearn.dummy import DummyClassifier\n",
    "from sklearn.metrics import accuracy_score, classification_report\n",
    "\n",
    "# Create a DummyClassifier with 'stratified' strategy as the baseline model\n",
    "baseline_model = DummyClassifier(strategy='stratified')\n",
    "\n",
    "# Train the baseline model\n",
    "baseline_model.fit(X_train_feng, y_train_feng)\n",
    "\n",
    "# Make predictions using the baseline model\n",
    "y_pred = baseline_model.predict(X_test_feng)\n",
    "\n",
    "# Evaluate the baseline model\n",
    "accuracy = accuracy_score(y_test_feng, y_pred)\n",
    "report = classification_report(y_test_feng, y_pred)\n",
    "\n",
    "print(\"Baseline Model:\")\n",
    "print(f\"Accuracy: {accuracy:.4f}\")\n",
    "print(\"Classification Report:\")\n",
    "print(report)"
   ]
  },
  {
   "cell_type": "markdown",
   "metadata": {},
   "source": [
    "## 5. Modelling"
   ]
  },
  {
   "cell_type": "code",
   "execution_count": 7,
   "metadata": {},
   "outputs": [
    {
     "name": "stdout",
     "output_type": "stream",
     "text": [
      "Algorithm: Logistic Regression\n",
      "Best Hyperparameters: {'C': 10}\n",
      "Best Accuracy: 0.8349\n",
      "\n",
      "Algorithm: SVM\n",
      "Best Hyperparameters: {'C': 1}\n",
      "Best Accuracy: 0.8329\n",
      "\n",
      "Algorithm: Decision Tree\n",
      "Best Hyperparameters: {'max_depth': 5}\n",
      "Best Accuracy: 0.8906\n",
      "\n",
      "Algorithm: Random Forest\n",
      "Best Hyperparameters: {'n_estimators': 50}\n",
      "Best Accuracy: 0.8966\n",
      "\n",
      "Algorithm: AdaBoost\n",
      "Best Hyperparameters: {'n_estimators': 100}\n",
      "Best Accuracy: 0.8688\n",
      "\n",
      "Algorithm: Naive Bayes\n",
      "Best Hyperparameters: No hyperparameters to tune.\n",
      "Best Accuracy: 0.8215\n",
      "\n",
      "Best Algorithm: Decision Tree\n"
     ]
    }
   ],
   "source": [
    "from sklearn.linear_model import LogisticRegression\n",
    "from sklearn.svm import SVC\n",
    "from sklearn.tree import DecisionTreeClassifier\n",
    "from sklearn.ensemble import RandomForestClassifier, AdaBoostClassifier\n",
    "from sklearn.naive_bayes import GaussianNB\n",
    "from sklearn.model_selection import GridSearchCV\n",
    "from sklearn.metrics import accuracy_score\n",
    "\n",
    "# Create a dictionary to store the hyperparameter grids for each algorithm\n",
    "hyperparameter_grids = {\n",
    "    'Logistic Regression': {'C': [0.1, 1, 10]},\n",
    "    'SVM': {'C': [0.1, 1, 10]},\n",
    "    'Decision Tree': {'max_depth': [None, 5, 10, 20]},\n",
    "    'Random Forest': {'n_estimators': [50, 100,200]},\n",
    "    'AdaBoost': {'n_estimators': [50, 100, 200]}\n",
    "}\n",
    " \n",
    "# Define the models for each algorithm\n",
    "models = {\n",
    "    'Logistic Regression': LogisticRegression(max_iter=1000),\n",
    "    'SVM': SVC(kernel='linear'),\n",
    "    'Decision Tree': DecisionTreeClassifier(),\n",
    "    'Random Forest': RandomForestClassifier(),\n",
    "    'AdaBoost': AdaBoostClassifier(),\n",
    "    'Naive Bayes': GaussianNB()\n",
    "}\n",
    "\n",
    "best_models = {}\n",
    "\n",
    "# Perform hyperparameter tuning and get the best models for each algorithm\n",
    "for algo, model in models.items():\n",
    "    if algo in hyperparameter_grids:\n",
    "        param_grid = hyperparameter_grids[algo]\n",
    "        grid_search = GridSearchCV(model, param_grid, cv=5, scoring='accuracy')\n",
    "        grid_search.fit(X_train_feng, y_train_feng)\n",
    "        best_models[algo] = grid_search.best_estimator_\n",
    "        best_params = grid_search.best_params_\n",
    "        best_accuracy = grid_search.best_score_\n",
    "    else:\n",
    "        # For Naive Bayes, there are no hyperparameters to tune\n",
    "        best_models[algo] = model\n",
    "        model.fit(X_train_feng, y_train_feng)\n",
    "        y_pred = model.predict(X_test_feng)\n",
    "        best_accuracy = accuracy_score(y_test_feng, y_pred)\n",
    "        best_params = \"No hyperparameters to tune.\"\n",
    "\n",
    "    print(f\"Algorithm: {algo}\")\n",
    "    print(f\"Best Hyperparameters: {best_params}\")\n",
    "    print(f\"Best Accuracy: {best_accuracy:.4f}\\n\")\n",
    "\n",
    "# Find the best algorithm based on accuracy\n",
    "best_algorithm = max(best_models.items(), key=lambda x: accuracy_score(y_test_feng, x[1].predict(X_test_feng)))[0]\n",
    "print(\"Best Algorithm:\", best_algorithm)\n"
   ]
  },
  {
   "cell_type": "code",
   "execution_count": 8,
   "metadata": {},
   "outputs": [
    {
     "data": {
      "image/png": "[encoded data removed]",
      "text/plain": [
       "<Figure size 720x432 with 1 Axes>"
      ]
     },
     "metadata": {
      "needs_background": "light"
     },
     "output_type": "display_data"
    }
   ],
   "source": [
    "import matplotlib.pyplot as plt\n",
    "import numpy as np\n",
    "\n",
    "# Assuming you have already obtained the best_accuracy and best_models dictionary\n",
    "# as computed in the previous code\n",
    "\n",
    "# Sort the algorithms based on accuracy in descending order\n",
    "sorted_algorithms = sorted(best_models.items(), key=lambda x: accuracy_score(y_test_feng, x[1].predict(X_test_feng)), reverse=True)\n",
    "\n",
    "# Extract the algorithm names and accuracies for plotting\n",
    "algorithm_names = [algo[0] for algo in sorted_algorithms]\n",
    "accuracies = [accuracy_score(y_test_feng, algo[1].predict(X_test_feng)) for algo in sorted_algorithms]\n",
    "\n",
    "# Find the index of the highest accuracy value\n",
    "highest_index = np.argmax(accuracies)\n",
    "\n",
    "# Create a bar plot\n",
    "plt.figure(figsize=(10, 6))\n",
    "bars = plt.bar(algorithm_names, accuracies, color='skyblue')\n",
    "\n",
    "# Highlight the highest algorithm by changing its color\n",
    "bars[highest_index].set_color('green')\n",
    "\n",
    "plt.xlabel('Algorithms')\n",
    "plt.ylabel('Accuracy')\n",
    "plt.title('Comparison of Algorithm Performance')\n",
    "plt.xticks(rotation=45, ha='right')\n",
    "\n",
    "# Add the accuracy values on top of the bars\n",
    "for i, v in enumerate(accuracies):\n",
    "    plt.text(i, v, f'{v:.4f}', ha='center', va='bottom', fontweight='bold')\n",
    "\n",
    "plt.tight_layout()\n",
    "plt.show()"
   ]
  },
  {
   "cell_type": "markdown",
   "metadata": {},
   "source": [
    "## 5. Evaluation and Metrics"
   ]
  },
  {
   "cell_type": "code",
   "execution_count": 9,
   "metadata": {},
   "outputs": [
    {
     "data": {
      "image/png": "[encoded data removed]",
      "text/plain": [
       "<Figure size 576x432 with 2 Axes>"
      ]
     },
     "metadata": {
      "needs_background": "light"
     },
     "output_type": "display_data"
    }
   ],
   "source": [
    "from sklearn.metrics import confusion_matrix\n",
    "import seaborn as sns\n",
    "\n",
    "# Generate the confusion matrix\n",
    "cm = confusion_matrix(y_test_feng, y_pred)\n",
    "\n",
    "# Create a heatmap to visualize the confusion matrix\n",
    "plt.figure(figsize=(8, 6))\n",
    "sns.heatmap(cm, annot=True, fmt='d', xticklabels=['Negative', 'Positive'],\n",
    "            yticklabels=['Negative', 'Positive'])\n",
    "plt.xlabel('Predicted Labels')\n",
    "plt.ylabel('True Labels')\n",
    "plt.title(f'Confusion Matrix for {best_algorithm}')\n",
    "plt.show()"
   ]
  },
  {
   "cell_type": "code",
   "execution_count": 10,
   "metadata": {},
   "outputs": [
    {
     "name": "stdout",
     "output_type": "stream",
     "text": [
      "              precision    recall  f1-score   support\n",
      "\n",
      "           0       0.99      0.82      0.90      1932\n",
      "           1       0.14      0.79      0.23        68\n",
      "\n",
      "    accuracy                           0.82      2000\n",
      "   macro avg       0.56      0.81      0.57      2000\n",
      "weighted avg       0.96      0.82      0.88      2000\n",
      "\n"
     ]
    }
   ],
   "source": [
    "print(classification_report(y_test_feng, y_pred))"
   ]
  },
  {
   "cell_type": "code",
   "execution_count": 13,
   "metadata": {},
   "outputs": [
    {
     "data": {
      "image/png": "[encoded data removed]",
      "text/plain": [
       "<Figure size 720x432 with 1 Axes>"
      ]
     },
     "metadata": {
      "needs_background": "light"
     },
     "output_type": "display_data"
    }
   ],
   "source": [
    "from sklearn.tree import DecisionTreeClassifier\n",
    "from sklearn.metrics import accuracy_score\n",
    "import matplotlib.pyplot as plt\n",
    "\n",
    "# Define a range of max_depth values for the Decision tree model\n",
    "max_depth_values = [None, 5, 10, 20]\n",
    "\n",
    "# Lists to store the training and test accuracies for each max_depth\n",
    "train_accuracies_dt = []\n",
    "test_accuracies_dt = []\n",
    "\n",
    "# Assuming X_train_feng, y_train_feng, X_test_feng, y_test_feng are defined\n",
    "\n",
    "for max_depth_val in max_depth_values:\n",
    "    # Create the Decision Tree model with the specified max_depth value\n",
    "    model_dt = DecisionTreeClassifier(max_depth=max_depth_val)\n",
    "\n",
    "    # Fit the model on the training set\n",
    "    model_dt.fit(X_train_feng, y_train_feng)\n",
    "\n",
    "    # Predict on the training and test sets\n",
    "    y_train_pred_dt = model_dt.predict(X_train_feng)\n",
    "    y_test_pred_dt = model_dt.predict(X_test_feng)\n",
    "\n",
    "    # Calculate the accuracies and store them\n",
    "    train_accuracy_dt = accuracy_score(y_train_feng, y_train_pred_dt)\n",
    "    test_accuracy_dt = accuracy_score(y_test_feng, y_test_pred_dt)\n",
    "\n",
    "    train_accuracies_dt.append(train_accuracy_dt)\n",
    "    test_accuracies_dt.append(test_accuracy_dt)\n",
    "\n",
    "# Plot the bias-variance trade-off curve for Decision Tree\n",
    "plt.figure(figsize=(10, 6))\n",
    "plt.plot(max_depth_values, train_accuracies_dt, label='Training Accuracy', marker='o')\n",
    "plt.plot(max_depth_values, test_accuracies_dt, label='Test Accuracy', marker='o')\n",
    "plt.xlabel('Max depth')\n",
    "plt.ylabel('Accuracy')\n",
    "plt.title('Bias-Variance Trade-off for Decision Tree')\n",
    "plt.legend()\n",
    "plt.grid(True)\n",
    "plt.show()\n"
   ]
  },
  {
   "cell_type": "code",
   "execution_count": 14,
   "metadata": {},
   "outputs": [
    {
     "data": {
      "text/plain": [
       "[1.0, 0.9542743538767395, 1.0, 1.0]"
      ]
     },
     "execution_count": 14,
     "metadata": {},
     "output_type": "execute_result"
    }
   ],
   "source": [
    "train_accuracies_dt"
   ]
  },
  {
   "cell_type": "markdown",
   "metadata": {},
   "source": [
    "## 6. Dump Model Object"
   ]
  },
  {
   "cell_type": "code",
   "execution_count": 15,
   "metadata": {},
   "outputs": [],
   "source": [
    "utils.pickle_dump(model_dt, config['best_model']['model_path'] + config['best_model']['model_name'])"
   ]
  }
 ],
 "metadata": {
  "kernelspec": {
   "display_name": "Python 3",
   "language": "python",
   "name": "python3"
  },
  "language_info": {
   "codemirror_mode": {
    "name": "ipython",
    "version": 3
   },
   "file_extension": ".py",
   "mimetype": "text/x-python",
   "name": "python",
   "nbconvert_exporter": "python",
   "pygments_lexer": "ipython3",
   "version": "3.7.11"
  },
  "vscode": {
   "interpreter": {
    "hash": "a72c98e1e790ca7e9680f4346f41285cd0cde3f836014d4813139e4566575d23"
   }
  }
 },
 "nbformat": 4,
 "nbformat_minor": 4
}
